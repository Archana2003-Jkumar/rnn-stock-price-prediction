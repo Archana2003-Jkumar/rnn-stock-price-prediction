{
  "cells": [
    {
      "cell_type": "code",
      "execution_count": 22,
      "metadata": {
        "id": "PSQ27q5jLcKl"
      },
      "outputs": [],
      "source": [
        "import numpy as np\n",
        "import matplotlib.pyplot as plt\n",
        "import pandas as pd\n",
        "from sklearn.preprocessing import MinMaxScaler\n",
        "from keras import layers\n",
        "from keras.models import Sequential\n"
      ]
    },
    {
      "cell_type": "code",
      "execution_count": 23,
      "metadata": {
        "colab": {
          "base_uri": "https://localhost:8080/"
        },
        "id": "tNhVWLqFLkwd",
        "outputId": "5ab7a7ed-8eac-4bd5-9944-ac305ad9421d"
      },
      "outputs": [
        {
          "output_type": "execute_result",
          "data": {
            "text/plain": [
              "Index(['Date', 'Open', 'High', 'Low', 'Close', 'Adj Close', 'Volume'], dtype='object')"
            ]
          },
          "metadata": {},
          "execution_count": 23
        }
      ],
      "source": [
        "dataset_train = pd.read_csv('trainset.csv')\n",
        "dataset_train.columns"
      ]
    },
    {
      "cell_type": "code",
      "execution_count": 24,
      "metadata": {
        "colab": {
          "base_uri": "https://localhost:8080/"
        },
        "id": "5x8JxwagLrAe",
        "outputId": "193b7707-19f7-456e-e870-11c6b9769d34"
      },
      "outputs": [
        {
          "output_type": "execute_result",
          "data": {
            "text/plain": [
              "(1259, 1)"
            ]
          },
          "metadata": {},
          "execution_count": 24
        }
      ],
      "source": [
        "dataset_train.head()\n",
        "train_set = dataset_train.iloc[:,1:2].values\n",
        "type(train_set)\n",
        "train_set.shape"
      ]
    },
    {
      "cell_type": "code",
      "execution_count": 25,
      "metadata": {
        "colab": {
          "base_uri": "https://localhost:8080/"
        },
        "id": "xnNULq_uMA1r",
        "outputId": "943074fc-4a7b-4176-ab9f-735cd4851bec"
      },
      "outputs": [
        {
          "output_type": "execute_result",
          "data": {
            "text/plain": [
              "(1259, 1)"
            ]
          },
          "metadata": {},
          "execution_count": 25
        }
      ],
      "source": [
        "sc = MinMaxScaler(feature_range=(0,1))\n",
        "training_set_scaled = sc.fit_transform(train_set)\n",
        "\n",
        "training_set_scaled.shape"
      ]
    },
    {
      "cell_type": "code",
      "execution_count": 26,
      "metadata": {
        "id": "6wpDiSJGMGLG"
      },
      "outputs": [],
      "source": [
        "X_train_array = []\n",
        "y_train_array = []\n",
        "for i in range(60, 1259):\n",
        "  X_train_array.append(training_set_scaled[i-60:i,0])\n",
        "  y_train_array.append(training_set_scaled[i,0])\n",
        "X_train, y_train = np.array(X_train_array), np.array(y_train_array)\n",
        "X_train1 = X_train.reshape((X_train.shape[0], X_train.shape[1],1))\n"
      ]
    },
    {
      "cell_type": "code",
      "execution_count": 27,
      "metadata": {
        "colab": {
          "base_uri": "https://localhost:8080/"
        },
        "id": "IZbxUjmwMJll",
        "outputId": "a7b4efa5-82dc-4d1e-e873-d66de87c860a"
      },
      "outputs": [
        {
          "output_type": "execute_result",
          "data": {
            "text/plain": [
              "(1199, 60)"
            ]
          },
          "metadata": {},
          "execution_count": 27
        }
      ],
      "source": [
        "X_train.shape"
      ]
    },
    {
      "cell_type": "code",
      "execution_count": 28,
      "metadata": {
        "id": "I0wYtzJjMOyq"
      },
      "outputs": [],
      "source": [
        "length = 60\n",
        "n_features = 1"
      ]
    },
    {
      "cell_type": "code",
      "execution_count": 29,
      "metadata": {
        "id": "5onYm6XPMSfj"
      },
      "outputs": [],
      "source": [
        "model = Sequential()\n",
        "model.add(layers.SimpleRNN(45,input_shape=(length,n_features)))\n",
        "model.add(layers.Dense(1))"
      ]
    },
    {
      "cell_type": "code",
      "execution_count": 30,
      "metadata": {
        "id": "gyxz54WIMbwG"
      },
      "outputs": [],
      "source": [
        "model.compile(optimizer='adam', loss='mse')"
      ]
    },
    {
      "cell_type": "code",
      "execution_count": 31,
      "metadata": {
        "colab": {
          "base_uri": "https://localhost:8080/"
        },
        "id": "q7CMk5ZtMfec",
        "outputId": "e74cabc5-64da-4184-e469-beb73da4f91b"
      },
      "outputs": [
        {
          "output_type": "stream",
          "name": "stdout",
          "text": [
            "Model: \"sequential_1\"\n",
            "_________________________________________________________________\n",
            " Layer (type)                Output Shape              Param #   \n",
            "=================================================================\n",
            " simple_rnn_1 (SimpleRNN)    (None, 45)                2115      \n",
            "                                                                 \n",
            " dense_1 (Dense)             (None, 1)                 46        \n",
            "                                                                 \n",
            "=================================================================\n",
            "Total params: 2161 (8.44 KB)\n",
            "Trainable params: 2161 (8.44 KB)\n",
            "Non-trainable params: 0 (0.00 Byte)\n",
            "_________________________________________________________________\n"
          ]
        }
      ],
      "source": [
        "model.summary()"
      ]
    },
    {
      "cell_type": "code",
      "execution_count": 32,
      "metadata": {
        "colab": {
          "base_uri": "https://localhost:8080/"
        },
        "id": "AybACH19MoBe",
        "outputId": "0763a69c-8a71-40ad-8f4f-d0ffa4a5b885"
      },
      "outputs": [
        {
          "output_type": "stream",
          "name": "stdout",
          "text": [
            "Epoch 1/90\n",
            "24/24 [==============================] - 2s 18ms/step - loss: 0.0040\n",
            "Epoch 2/90\n",
            "24/24 [==============================] - 0s 19ms/step - loss: 7.4280e-04\n",
            "Epoch 3/90\n",
            "24/24 [==============================] - 0s 19ms/step - loss: 6.3285e-04\n",
            "Epoch 4/90\n",
            "24/24 [==============================] - 0s 18ms/step - loss: 6.5056e-04\n",
            "Epoch 5/90\n",
            "24/24 [==============================] - 0s 14ms/step - loss: 5.1202e-04\n",
            "Epoch 6/90\n",
            "24/24 [==============================] - 0s 11ms/step - loss: 4.2255e-04\n",
            "Epoch 7/90\n",
            "24/24 [==============================] - 0s 12ms/step - loss: 3.9516e-04\n",
            "Epoch 8/90\n",
            "24/24 [==============================] - 0s 12ms/step - loss: 4.0124e-04\n",
            "Epoch 9/90\n",
            "24/24 [==============================] - 0s 11ms/step - loss: 3.8089e-04\n",
            "Epoch 10/90\n",
            "24/24 [==============================] - 0s 11ms/step - loss: 4.0494e-04\n",
            "Epoch 11/90\n",
            "24/24 [==============================] - 0s 11ms/step - loss: 3.4516e-04\n",
            "Epoch 12/90\n",
            "24/24 [==============================] - 0s 12ms/step - loss: 3.2049e-04\n",
            "Epoch 13/90\n",
            "24/24 [==============================] - 0s 11ms/step - loss: 3.1721e-04\n",
            "Epoch 14/90\n",
            "24/24 [==============================] - 0s 12ms/step - loss: 3.0384e-04\n",
            "Epoch 15/90\n",
            "24/24 [==============================] - 0s 12ms/step - loss: 3.2752e-04\n",
            "Epoch 16/90\n",
            "24/24 [==============================] - 0s 11ms/step - loss: 3.0330e-04\n",
            "Epoch 17/90\n",
            "24/24 [==============================] - 0s 11ms/step - loss: 3.2614e-04\n",
            "Epoch 18/90\n",
            "24/24 [==============================] - 0s 11ms/step - loss: 3.2144e-04\n",
            "Epoch 19/90\n",
            "24/24 [==============================] - 0s 12ms/step - loss: 2.6308e-04\n",
            "Epoch 20/90\n",
            "24/24 [==============================] - 0s 11ms/step - loss: 2.9407e-04\n",
            "Epoch 21/90\n",
            "24/24 [==============================] - 0s 11ms/step - loss: 2.6758e-04\n",
            "Epoch 22/90\n",
            "24/24 [==============================] - 0s 11ms/step - loss: 2.6212e-04\n",
            "Epoch 23/90\n",
            "24/24 [==============================] - 0s 12ms/step - loss: 2.8120e-04\n",
            "Epoch 24/90\n",
            "24/24 [==============================] - 0s 11ms/step - loss: 2.6144e-04\n",
            "Epoch 25/90\n",
            "24/24 [==============================] - 0s 11ms/step - loss: 3.3117e-04\n",
            "Epoch 26/90\n",
            "24/24 [==============================] - 0s 12ms/step - loss: 3.9591e-04\n",
            "Epoch 27/90\n",
            "24/24 [==============================] - 0s 12ms/step - loss: 2.4547e-04\n",
            "Epoch 28/90\n",
            "24/24 [==============================] - 0s 12ms/step - loss: 2.5239e-04\n",
            "Epoch 29/90\n",
            "24/24 [==============================] - 0s 11ms/step - loss: 2.4412e-04\n",
            "Epoch 30/90\n",
            "24/24 [==============================] - 0s 12ms/step - loss: 2.9168e-04\n",
            "Epoch 31/90\n",
            "24/24 [==============================] - 0s 11ms/step - loss: 2.9241e-04\n",
            "Epoch 32/90\n",
            "24/24 [==============================] - 0s 11ms/step - loss: 2.6243e-04\n",
            "Epoch 33/90\n",
            "24/24 [==============================] - 0s 11ms/step - loss: 2.2845e-04\n",
            "Epoch 34/90\n",
            "24/24 [==============================] - 0s 11ms/step - loss: 2.4971e-04\n",
            "Epoch 35/90\n",
            "24/24 [==============================] - 0s 11ms/step - loss: 2.8373e-04\n",
            "Epoch 36/90\n",
            "24/24 [==============================] - 0s 11ms/step - loss: 2.6201e-04\n",
            "Epoch 37/90\n",
            "24/24 [==============================] - 0s 11ms/step - loss: 2.2395e-04\n",
            "Epoch 38/90\n",
            "24/24 [==============================] - 0s 11ms/step - loss: 2.0725e-04\n",
            "Epoch 39/90\n",
            "24/24 [==============================] - 0s 11ms/step - loss: 2.4423e-04\n",
            "Epoch 40/90\n",
            "24/24 [==============================] - 0s 11ms/step - loss: 2.7638e-04\n",
            "Epoch 41/90\n",
            "24/24 [==============================] - 0s 18ms/step - loss: 2.2400e-04\n",
            "Epoch 42/90\n",
            "24/24 [==============================] - 0s 17ms/step - loss: 2.0874e-04\n",
            "Epoch 43/90\n",
            "24/24 [==============================] - 0s 17ms/step - loss: 2.0775e-04\n",
            "Epoch 44/90\n",
            "24/24 [==============================] - 0s 17ms/step - loss: 2.2162e-04\n",
            "Epoch 45/90\n",
            "24/24 [==============================] - 0s 18ms/step - loss: 2.2063e-04\n",
            "Epoch 46/90\n",
            "24/24 [==============================] - 0s 19ms/step - loss: 2.4226e-04\n",
            "Epoch 47/90\n",
            "24/24 [==============================] - 0s 15ms/step - loss: 2.2128e-04\n",
            "Epoch 48/90\n",
            "24/24 [==============================] - 0s 11ms/step - loss: 2.1672e-04\n",
            "Epoch 49/90\n",
            "24/24 [==============================] - 0s 11ms/step - loss: 2.0489e-04\n",
            "Epoch 50/90\n",
            "24/24 [==============================] - 0s 11ms/step - loss: 2.3180e-04\n",
            "Epoch 51/90\n",
            "24/24 [==============================] - 0s 11ms/step - loss: 1.9252e-04\n",
            "Epoch 52/90\n",
            "24/24 [==============================] - 0s 12ms/step - loss: 2.1918e-04\n",
            "Epoch 53/90\n",
            "24/24 [==============================] - 0s 12ms/step - loss: 1.9785e-04\n",
            "Epoch 54/90\n",
            "24/24 [==============================] - 0s 12ms/step - loss: 2.0216e-04\n",
            "Epoch 55/90\n",
            "24/24 [==============================] - 0s 12ms/step - loss: 2.3910e-04\n",
            "Epoch 56/90\n",
            "24/24 [==============================] - 0s 19ms/step - loss: 2.1696e-04\n",
            "Epoch 57/90\n",
            "24/24 [==============================] - 0s 14ms/step - loss: 2.1453e-04\n",
            "Epoch 58/90\n",
            "24/24 [==============================] - 0s 11ms/step - loss: 2.0486e-04\n",
            "Epoch 59/90\n",
            "24/24 [==============================] - 0s 12ms/step - loss: 2.2331e-04\n",
            "Epoch 60/90\n",
            "24/24 [==============================] - 0s 12ms/step - loss: 2.2009e-04\n",
            "Epoch 61/90\n",
            "24/24 [==============================] - 0s 11ms/step - loss: 1.9387e-04\n",
            "Epoch 62/90\n",
            "24/24 [==============================] - 0s 12ms/step - loss: 2.0105e-04\n",
            "Epoch 63/90\n",
            "24/24 [==============================] - 0s 12ms/step - loss: 2.0500e-04\n",
            "Epoch 64/90\n",
            "24/24 [==============================] - 0s 11ms/step - loss: 1.9563e-04\n",
            "Epoch 65/90\n",
            "24/24 [==============================] - 0s 12ms/step - loss: 2.0225e-04\n",
            "Epoch 66/90\n",
            "24/24 [==============================] - 0s 12ms/step - loss: 2.0276e-04\n",
            "Epoch 67/90\n",
            "24/24 [==============================] - 0s 11ms/step - loss: 2.2219e-04\n",
            "Epoch 68/90\n",
            "24/24 [==============================] - 0s 11ms/step - loss: 2.0074e-04\n",
            "Epoch 69/90\n",
            "24/24 [==============================] - 0s 11ms/step - loss: 1.8216e-04\n",
            "Epoch 70/90\n",
            "24/24 [==============================] - 0s 11ms/step - loss: 1.8582e-04\n",
            "Epoch 71/90\n",
            "24/24 [==============================] - 0s 11ms/step - loss: 1.9266e-04\n",
            "Epoch 72/90\n",
            "24/24 [==============================] - 0s 11ms/step - loss: 2.0681e-04\n",
            "Epoch 73/90\n",
            "24/24 [==============================] - 0s 11ms/step - loss: 1.9935e-04\n",
            "Epoch 74/90\n",
            "24/24 [==============================] - 0s 11ms/step - loss: 1.8983e-04\n",
            "Epoch 75/90\n",
            "24/24 [==============================] - 0s 11ms/step - loss: 2.0824e-04\n",
            "Epoch 76/90\n",
            "24/24 [==============================] - 0s 11ms/step - loss: 1.8576e-04\n",
            "Epoch 77/90\n",
            "24/24 [==============================] - 0s 12ms/step - loss: 2.1798e-04\n",
            "Epoch 78/90\n",
            "24/24 [==============================] - 0s 11ms/step - loss: 1.8353e-04\n",
            "Epoch 79/90\n",
            "24/24 [==============================] - 0s 11ms/step - loss: 1.8395e-04\n",
            "Epoch 80/90\n",
            "24/24 [==============================] - 0s 11ms/step - loss: 2.0806e-04\n",
            "Epoch 81/90\n",
            "24/24 [==============================] - 0s 11ms/step - loss: 1.8995e-04\n",
            "Epoch 82/90\n",
            "24/24 [==============================] - 0s 19ms/step - loss: 1.8556e-04\n",
            "Epoch 83/90\n",
            "24/24 [==============================] - 0s 19ms/step - loss: 1.7648e-04\n",
            "Epoch 84/90\n",
            "24/24 [==============================] - 0s 16ms/step - loss: 1.8987e-04\n",
            "Epoch 85/90\n",
            "24/24 [==============================] - 0s 16ms/step - loss: 1.7071e-04\n",
            "Epoch 86/90\n",
            "24/24 [==============================] - 0s 19ms/step - loss: 1.8694e-04\n",
            "Epoch 87/90\n",
            "24/24 [==============================] - 0s 19ms/step - loss: 1.8638e-04\n",
            "Epoch 88/90\n",
            "24/24 [==============================] - 0s 14ms/step - loss: 1.9411e-04\n",
            "Epoch 89/90\n",
            "24/24 [==============================] - 0s 11ms/step - loss: 1.8399e-04\n",
            "Epoch 90/90\n",
            "24/24 [==============================] - 0s 11ms/step - loss: 2.4617e-04\n"
          ]
        },
        {
          "output_type": "execute_result",
          "data": {
            "text/plain": [
              "<keras.src.callbacks.History at 0x7bb0acefb6a0>"
            ]
          },
          "metadata": {},
          "execution_count": 32
        }
      ],
      "source": [
        "model.fit(X_train1,y_train,epochs=90, batch_size=50)"
      ]
    },
    {
      "cell_type": "code",
      "execution_count": 33,
      "metadata": {
        "id": "Z-Ld7xsuMrHs"
      },
      "outputs": [],
      "source": [
        "dataset_test = pd.read_csv('testset.csv')"
      ]
    },
    {
      "cell_type": "code",
      "execution_count": 34,
      "metadata": {
        "colab": {
          "base_uri": "https://localhost:8080/",
          "height": 206
        },
        "id": "Pvj60j2XM8P4",
        "outputId": "43861514-e9da-4c4e-c240-771ee7e5db8d"
      },
      "outputs": [
        {
          "output_type": "execute_result",
          "data": {
            "text/plain": [
              "         Date         Open         High          Low        Close  \\\n",
              "0  2018-01-02  1048.339966  1066.939941  1045.229980  1065.000000   \n",
              "1  2018-01-03  1064.310059  1086.290039  1063.209961  1082.479980   \n",
              "2  2018-01-04  1088.000000  1093.569946  1084.001953  1086.400024   \n",
              "3  2018-01-05  1094.000000  1104.250000  1092.000000  1102.229980   \n",
              "4  2018-01-08  1102.229980  1111.270020  1101.619995  1106.939941   \n",
              "\n",
              "     Adj Close   Volume  \n",
              "0  1065.000000  1237600  \n",
              "1  1082.479980  1430200  \n",
              "2  1086.400024  1004600  \n",
              "3  1102.229980  1279100  \n",
              "4  1106.939941  1047600  "
            ],
            "text/html": [
              "\n",
              "  <div id=\"df-e01e9e4e-e60a-4f54-8e6d-660fdaf18644\" class=\"colab-df-container\">\n",
              "    <div>\n",
              "<style scoped>\n",
              "    .dataframe tbody tr th:only-of-type {\n",
              "        vertical-align: middle;\n",
              "    }\n",
              "\n",
              "    .dataframe tbody tr th {\n",
              "        vertical-align: top;\n",
              "    }\n",
              "\n",
              "    .dataframe thead th {\n",
              "        text-align: right;\n",
              "    }\n",
              "</style>\n",
              "<table border=\"1\" class=\"dataframe\">\n",
              "  <thead>\n",
              "    <tr style=\"text-align: right;\">\n",
              "      <th></th>\n",
              "      <th>Date</th>\n",
              "      <th>Open</th>\n",
              "      <th>High</th>\n",
              "      <th>Low</th>\n",
              "      <th>Close</th>\n",
              "      <th>Adj Close</th>\n",
              "      <th>Volume</th>\n",
              "    </tr>\n",
              "  </thead>\n",
              "  <tbody>\n",
              "    <tr>\n",
              "      <th>0</th>\n",
              "      <td>2018-01-02</td>\n",
              "      <td>1048.339966</td>\n",
              "      <td>1066.939941</td>\n",
              "      <td>1045.229980</td>\n",
              "      <td>1065.000000</td>\n",
              "      <td>1065.000000</td>\n",
              "      <td>1237600</td>\n",
              "    </tr>\n",
              "    <tr>\n",
              "      <th>1</th>\n",
              "      <td>2018-01-03</td>\n",
              "      <td>1064.310059</td>\n",
              "      <td>1086.290039</td>\n",
              "      <td>1063.209961</td>\n",
              "      <td>1082.479980</td>\n",
              "      <td>1082.479980</td>\n",
              "      <td>1430200</td>\n",
              "    </tr>\n",
              "    <tr>\n",
              "      <th>2</th>\n",
              "      <td>2018-01-04</td>\n",
              "      <td>1088.000000</td>\n",
              "      <td>1093.569946</td>\n",
              "      <td>1084.001953</td>\n",
              "      <td>1086.400024</td>\n",
              "      <td>1086.400024</td>\n",
              "      <td>1004600</td>\n",
              "    </tr>\n",
              "    <tr>\n",
              "      <th>3</th>\n",
              "      <td>2018-01-05</td>\n",
              "      <td>1094.000000</td>\n",
              "      <td>1104.250000</td>\n",
              "      <td>1092.000000</td>\n",
              "      <td>1102.229980</td>\n",
              "      <td>1102.229980</td>\n",
              "      <td>1279100</td>\n",
              "    </tr>\n",
              "    <tr>\n",
              "      <th>4</th>\n",
              "      <td>2018-01-08</td>\n",
              "      <td>1102.229980</td>\n",
              "      <td>1111.270020</td>\n",
              "      <td>1101.619995</td>\n",
              "      <td>1106.939941</td>\n",
              "      <td>1106.939941</td>\n",
              "      <td>1047600</td>\n",
              "    </tr>\n",
              "  </tbody>\n",
              "</table>\n",
              "</div>\n",
              "    <div class=\"colab-df-buttons\">\n",
              "\n",
              "  <div class=\"colab-df-container\">\n",
              "    <button class=\"colab-df-convert\" onclick=\"convertToInteractive('df-e01e9e4e-e60a-4f54-8e6d-660fdaf18644')\"\n",
              "            title=\"Convert this dataframe to an interactive table.\"\n",
              "            style=\"display:none;\">\n",
              "\n",
              "  <svg xmlns=\"http://www.w3.org/2000/svg\" height=\"24px\" viewBox=\"0 -960 960 960\">\n",
              "    <path d=\"M120-120v-720h720v720H120Zm60-500h600v-160H180v160Zm220 220h160v-160H400v160Zm0 220h160v-160H400v160ZM180-400h160v-160H180v160Zm440 0h160v-160H620v160ZM180-180h160v-160H180v160Zm440 0h160v-160H620v160Z\"/>\n",
              "  </svg>\n",
              "    </button>\n",
              "\n",
              "  <style>\n",
              "    .colab-df-container {\n",
              "      display:flex;\n",
              "      gap: 12px;\n",
              "    }\n",
              "\n",
              "    .colab-df-convert {\n",
              "      background-color: #E8F0FE;\n",
              "      border: none;\n",
              "      border-radius: 50%;\n",
              "      cursor: pointer;\n",
              "      display: none;\n",
              "      fill: #1967D2;\n",
              "      height: 32px;\n",
              "      padding: 0 0 0 0;\n",
              "      width: 32px;\n",
              "    }\n",
              "\n",
              "    .colab-df-convert:hover {\n",
              "      background-color: #E2EBFA;\n",
              "      box-shadow: 0px 1px 2px rgba(60, 64, 67, 0.3), 0px 1px 3px 1px rgba(60, 64, 67, 0.15);\n",
              "      fill: #174EA6;\n",
              "    }\n",
              "\n",
              "    .colab-df-buttons div {\n",
              "      margin-bottom: 4px;\n",
              "    }\n",
              "\n",
              "    [theme=dark] .colab-df-convert {\n",
              "      background-color: #3B4455;\n",
              "      fill: #D2E3FC;\n",
              "    }\n",
              "\n",
              "    [theme=dark] .colab-df-convert:hover {\n",
              "      background-color: #434B5C;\n",
              "      box-shadow: 0px 1px 3px 1px rgba(0, 0, 0, 0.15);\n",
              "      filter: drop-shadow(0px 1px 2px rgba(0, 0, 0, 0.3));\n",
              "      fill: #FFFFFF;\n",
              "    }\n",
              "  </style>\n",
              "\n",
              "    <script>\n",
              "      const buttonEl =\n",
              "        document.querySelector('#df-e01e9e4e-e60a-4f54-8e6d-660fdaf18644 button.colab-df-convert');\n",
              "      buttonEl.style.display =\n",
              "        google.colab.kernel.accessAllowed ? 'block' : 'none';\n",
              "\n",
              "      async function convertToInteractive(key) {\n",
              "        const element = document.querySelector('#df-e01e9e4e-e60a-4f54-8e6d-660fdaf18644');\n",
              "        const dataTable =\n",
              "          await google.colab.kernel.invokeFunction('convertToInteractive',\n",
              "                                                    [key], {});\n",
              "        if (!dataTable) return;\n",
              "\n",
              "        const docLinkHtml = 'Like what you see? Visit the ' +\n",
              "          '<a target=\"_blank\" href=https://colab.research.google.com/notebooks/data_table.ipynb>data table notebook</a>'\n",
              "          + ' to learn more about interactive tables.';\n",
              "        element.innerHTML = '';\n",
              "        dataTable['output_type'] = 'display_data';\n",
              "        await google.colab.output.renderOutput(dataTable, element);\n",
              "        const docLink = document.createElement('div');\n",
              "        docLink.innerHTML = docLinkHtml;\n",
              "        element.appendChild(docLink);\n",
              "      }\n",
              "    </script>\n",
              "  </div>\n",
              "\n",
              "\n",
              "<div id=\"df-810021de-2adc-4466-b5e8-106186c4f310\">\n",
              "  <button class=\"colab-df-quickchart\" onclick=\"quickchart('df-810021de-2adc-4466-b5e8-106186c4f310')\"\n",
              "            title=\"Suggest charts\"\n",
              "            style=\"display:none;\">\n",
              "\n",
              "<svg xmlns=\"http://www.w3.org/2000/svg\" height=\"24px\"viewBox=\"0 0 24 24\"\n",
              "     width=\"24px\">\n",
              "    <g>\n",
              "        <path d=\"M19 3H5c-1.1 0-2 .9-2 2v14c0 1.1.9 2 2 2h14c1.1 0 2-.9 2-2V5c0-1.1-.9-2-2-2zM9 17H7v-7h2v7zm4 0h-2V7h2v10zm4 0h-2v-4h2v4z\"/>\n",
              "    </g>\n",
              "</svg>\n",
              "  </button>\n",
              "\n",
              "<style>\n",
              "  .colab-df-quickchart {\n",
              "      --bg-color: #E8F0FE;\n",
              "      --fill-color: #1967D2;\n",
              "      --hover-bg-color: #E2EBFA;\n",
              "      --hover-fill-color: #174EA6;\n",
              "      --disabled-fill-color: #AAA;\n",
              "      --disabled-bg-color: #DDD;\n",
              "  }\n",
              "\n",
              "  [theme=dark] .colab-df-quickchart {\n",
              "      --bg-color: #3B4455;\n",
              "      --fill-color: #D2E3FC;\n",
              "      --hover-bg-color: #434B5C;\n",
              "      --hover-fill-color: #FFFFFF;\n",
              "      --disabled-bg-color: #3B4455;\n",
              "      --disabled-fill-color: #666;\n",
              "  }\n",
              "\n",
              "  .colab-df-quickchart {\n",
              "    background-color: var(--bg-color);\n",
              "    border: none;\n",
              "    border-radius: 50%;\n",
              "    cursor: pointer;\n",
              "    display: none;\n",
              "    fill: var(--fill-color);\n",
              "    height: 32px;\n",
              "    padding: 0;\n",
              "    width: 32px;\n",
              "  }\n",
              "\n",
              "  .colab-df-quickchart:hover {\n",
              "    background-color: var(--hover-bg-color);\n",
              "    box-shadow: 0 1px 2px rgba(60, 64, 67, 0.3), 0 1px 3px 1px rgba(60, 64, 67, 0.15);\n",
              "    fill: var(--button-hover-fill-color);\n",
              "  }\n",
              "\n",
              "  .colab-df-quickchart-complete:disabled,\n",
              "  .colab-df-quickchart-complete:disabled:hover {\n",
              "    background-color: var(--disabled-bg-color);\n",
              "    fill: var(--disabled-fill-color);\n",
              "    box-shadow: none;\n",
              "  }\n",
              "\n",
              "  .colab-df-spinner {\n",
              "    border: 2px solid var(--fill-color);\n",
              "    border-color: transparent;\n",
              "    border-bottom-color: var(--fill-color);\n",
              "    animation:\n",
              "      spin 1s steps(1) infinite;\n",
              "  }\n",
              "\n",
              "  @keyframes spin {\n",
              "    0% {\n",
              "      border-color: transparent;\n",
              "      border-bottom-color: var(--fill-color);\n",
              "      border-left-color: var(--fill-color);\n",
              "    }\n",
              "    20% {\n",
              "      border-color: transparent;\n",
              "      border-left-color: var(--fill-color);\n",
              "      border-top-color: var(--fill-color);\n",
              "    }\n",
              "    30% {\n",
              "      border-color: transparent;\n",
              "      border-left-color: var(--fill-color);\n",
              "      border-top-color: var(--fill-color);\n",
              "      border-right-color: var(--fill-color);\n",
              "    }\n",
              "    40% {\n",
              "      border-color: transparent;\n",
              "      border-right-color: var(--fill-color);\n",
              "      border-top-color: var(--fill-color);\n",
              "    }\n",
              "    60% {\n",
              "      border-color: transparent;\n",
              "      border-right-color: var(--fill-color);\n",
              "    }\n",
              "    80% {\n",
              "      border-color: transparent;\n",
              "      border-right-color: var(--fill-color);\n",
              "      border-bottom-color: var(--fill-color);\n",
              "    }\n",
              "    90% {\n",
              "      border-color: transparent;\n",
              "      border-bottom-color: var(--fill-color);\n",
              "    }\n",
              "  }\n",
              "</style>\n",
              "\n",
              "  <script>\n",
              "    async function quickchart(key) {\n",
              "      const quickchartButtonEl =\n",
              "        document.querySelector('#' + key + ' button');\n",
              "      quickchartButtonEl.disabled = true;  // To prevent multiple clicks.\n",
              "      quickchartButtonEl.classList.add('colab-df-spinner');\n",
              "      try {\n",
              "        const charts = await google.colab.kernel.invokeFunction(\n",
              "            'suggestCharts', [key], {});\n",
              "      } catch (error) {\n",
              "        console.error('Error during call to suggestCharts:', error);\n",
              "      }\n",
              "      quickchartButtonEl.classList.remove('colab-df-spinner');\n",
              "      quickchartButtonEl.classList.add('colab-df-quickchart-complete');\n",
              "    }\n",
              "    (() => {\n",
              "      let quickchartButtonEl =\n",
              "        document.querySelector('#df-810021de-2adc-4466-b5e8-106186c4f310 button');\n",
              "      quickchartButtonEl.style.display =\n",
              "        google.colab.kernel.accessAllowed ? 'block' : 'none';\n",
              "    })();\n",
              "  </script>\n",
              "</div>\n",
              "\n",
              "    </div>\n",
              "  </div>\n"
            ],
            "application/vnd.google.colaboratory.intrinsic+json": {
              "type": "dataframe",
              "variable_name": "dataset_test",
              "summary": "{\n  \"name\": \"dataset_test\",\n  \"rows\": 125,\n  \"fields\": [\n    {\n      \"column\": \"Date\",\n      \"properties\": {\n        \"dtype\": \"object\",\n        \"num_unique_values\": 125,\n        \"samples\": [\n          \"2018-01-29\",\n          \"2018-03-05\",\n          \"2018-02-23\"\n        ],\n        \"semantic_type\": \"\",\n        \"description\": \"\"\n      }\n    },\n    {\n      \"column\": \"Open\",\n      \"properties\": {\n        \"dtype\": \"number\",\n        \"std\": 47.79342863860253,\n        \"min\": 993.409973,\n        \"max\": 1177.329956,\n        \"num_unique_values\": 124,\n        \"samples\": [\n          1176.47998,\n          1075.140015,\n          1112.640015\n        ],\n        \"semantic_type\": \"\",\n        \"description\": \"\"\n      }\n    },\n    {\n      \"column\": \"High\",\n      \"properties\": {\n        \"dtype\": \"number\",\n        \"std\": 45.2207280418645,\n        \"min\": 1020.98999,\n        \"max\": 1186.890015,\n        \"num_unique_values\": 125,\n        \"samples\": [\n          1186.890015,\n          1097.099976,\n          1127.280029\n        ],\n        \"semantic_type\": \"\",\n        \"description\": \"\"\n      }\n    },\n    {\n      \"column\": \"Low\",\n      \"properties\": {\n        \"dtype\": \"number\",\n        \"std\": 49.907919085837946,\n        \"min\": 980.640015,\n        \"max\": 1171.97998,\n        \"num_unique_values\": 124,\n        \"samples\": [\n          1171.97998,\n          1069.0,\n          1104.713989\n        ],\n        \"semantic_type\": \"\",\n        \"description\": \"\"\n      }\n    },\n    {\n      \"column\": \"Close\",\n      \"properties\": {\n        \"dtype\": \"number\",\n        \"std\": 48.04455096387223,\n        \"min\": 1001.52002,\n        \"max\": 1175.839966,\n        \"num_unique_values\": 125,\n        \"samples\": [\n          1175.579956,\n          1090.930054,\n          1126.790039\n        ],\n        \"semantic_type\": \"\",\n        \"description\": \"\"\n      }\n    },\n    {\n      \"column\": \"Adj Close\",\n      \"properties\": {\n        \"dtype\": \"number\",\n        \"std\": 48.04455096387223,\n        \"min\": 1001.52002,\n        \"max\": 1175.839966,\n        \"num_unique_values\": 125,\n        \"samples\": [\n          1175.579956,\n          1090.930054,\n          1126.790039\n        ],\n        \"semantic_type\": \"\",\n        \"description\": \"\"\n      }\n    },\n    {\n      \"column\": \"Volume\",\n      \"properties\": {\n        \"dtype\": \"number\",\n        \"std\": 720763,\n        \"min\": 756800,\n        \"max\": 4857900,\n        \"num_unique_values\": 125,\n        \"samples\": [\n          1378900,\n          1202200,\n          1261000\n        ],\n        \"semantic_type\": \"\",\n        \"description\": \"\"\n      }\n    }\n  ]\n}"
            }
          },
          "metadata": {},
          "execution_count": 34
        }
      ],
      "source": [
        "dataset_test.head()"
      ]
    },
    {
      "cell_type": "code",
      "execution_count": 35,
      "metadata": {
        "colab": {
          "base_uri": "https://localhost:8080/"
        },
        "id": "yEb48HY4NDM7",
        "outputId": "8abf8931-a01d-45b6-9c97-b6cee5d48dd7"
      },
      "outputs": [
        {
          "output_type": "execute_result",
          "data": {
            "text/plain": [
              "(125, 1)"
            ]
          },
          "metadata": {},
          "execution_count": 35
        }
      ],
      "source": [
        "test_set = dataset_test.iloc[:,1:2].values\n",
        "test_set.shape"
      ]
    },
    {
      "cell_type": "code",
      "execution_count": 36,
      "metadata": {
        "id": "ojjZawkCNJoI"
      },
      "outputs": [],
      "source": [
        "dataset_total = pd.concat((dataset_train['Open'],dataset_test['Open']),axis=0)"
      ]
    },
    {
      "cell_type": "code",
      "execution_count": 37,
      "metadata": {
        "id": "OHAWNsEDNN9I"
      },
      "outputs": [],
      "source": [
        "inputs = dataset_total.values\n"
      ]
    },
    {
      "cell_type": "code",
      "execution_count": 38,
      "metadata": {
        "id": "fMF9KQUPNR6C"
      },
      "outputs": [],
      "source": [
        "inputs = inputs.reshape(-1,1)"
      ]
    },
    {
      "cell_type": "code",
      "execution_count": 39,
      "metadata": {
        "id": "F8919_5JNTin"
      },
      "outputs": [],
      "source": [
        "inputs_scaled=sc.transform(inputs)\n",
        "X_test = []"
      ]
    },
    {
      "cell_type": "code",
      "execution_count": 40,
      "metadata": {
        "colab": {
          "base_uri": "https://localhost:8080/",
          "height": 507
        },
        "id": "SAf7tuI8NVZN",
        "outputId": "f2afe917-1b7e-4e89-f86a-fa00adf262e9"
      },
      "outputs": [
        {
          "output_type": "stream",
          "name": "stdout",
          "text": [
            "42/42 [==============================] - 0s 4ms/step\n",
            "Archana priya 212221230007\n"
          ]
        },
        {
          "output_type": "display_data",
          "data": {
            "text/plain": [
              "<Figure size 640x480 with 1 Axes>"
            ],
            "image/png": "[encoded data removed]"
          },
          "metadata": {}
        }
      ],
      "source": [
        "inputs = dataset_total.values\n",
        "inputs = inputs.reshape(-1,1)\n",
        "inputs_scaled=sc.transform(inputs)\n",
        "X_test = []\n",
        "y_test = []\n",
        "\n",
        "for i in range(60,1384):\n",
        "  X_test.append(inputs_scaled[i-60:i,0])\n",
        "  y_test.append(inputs_scaled[i,0])\n",
        "\n",
        "X_test = np.array(X_test)\n",
        "X_test = np.reshape(X_test,(X_test.shape[0], X_test.shape[1],1))\n",
        "\n",
        "\n",
        "predicted_stock_price_scaled = model.predict(X_test)\n",
        "predicted_stock_price = sc.inverse_transform(predicted_stock_price_scaled)\n",
        "\n",
        "print(\"Archana priya 212221230007\")\n",
        "plt.plot(np.arange(0,1384),inputs, color='red', label = 'Test(Real) Google stock price')\n",
        "plt.plot(np.arange(60,1384),predicted_stock_price, color='blue', label = 'Predicted Google stock price')\n",
        "plt.title('Google Stock Price Prediction')\n",
        "plt.xlabel('Time')\n",
        "plt.ylabel('Google Stock Price')\n",
        "plt.legend()\n",
        "plt.show()\n",
        "\n"
      ]
    },
    {
      "cell_type": "code",
      "execution_count": 41,
      "metadata": {
        "colab": {
          "base_uri": "https://localhost:8080/"
        },
        "id": "XyT9cY6RPVV8",
        "outputId": "f34a9b41-a877-47c8-ebe6-5e75a461205d"
      },
      "outputs": [
        {
          "output_type": "stream",
          "name": "stdout",
          "text": [
            "Mean Squared Error =  540916.0572932131\n"
          ]
        }
      ],
      "source": [
        "from sklearn.metrics import mean_squared_error as mse\n",
        "mse = mse(y_test,predicted_stock_price)\n",
        "print(\"Mean Squared Error = \",mse)\n"
      ]
    }
  ],
  "metadata": {
    "colab": {
      "provenance": []
    },
    "kernelspec": {
      "display_name": "Python 3",
      "name": "python3"
    },
    "language_info": {
      "name": "python"
    }
  },
  "nbformat": 4,
  "nbformat_minor": 0
}